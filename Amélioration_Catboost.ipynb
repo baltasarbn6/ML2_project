{
  "nbformat": 4,
  "nbformat_minor": 0,
  "metadata": {
    "colab": {
      "provenance": [],
      "gpuType": "T4"
    },
    "kernelspec": {
      "name": "python3",
      "display_name": "Python 3"
    },
    "language_info": {
      "name": "python"
    },
    "accelerator": "GPU"
  },
  "cells": [
    {
      "cell_type": "code",
      "execution_count": 1,
      "metadata": {
        "colab": {
          "base_uri": "https://localhost:8080/"
        },
        "id": "IGeGJjoAdMyU",
        "outputId": "6cffb008-e45d-4156-b8a7-20ba358d2f2d"
      },
      "outputs": [
        {
          "output_type": "stream",
          "name": "stdout",
          "text": [
            "Collecting catboost\n",
            "  Downloading catboost-1.2.5-cp310-cp310-manylinux2014_x86_64.whl (98.2 MB)\n",
            "\u001b[2K     \u001b[90m━━━━━━━━━━━━━━━━━━━━━━━━━━━━━━━━━━━━━━━━\u001b[0m \u001b[32m98.2/98.2 MB\u001b[0m \u001b[31m9.7 MB/s\u001b[0m eta \u001b[36m0:00:00\u001b[0m\n",
            "\u001b[?25hRequirement already satisfied: graphviz in /usr/local/lib/python3.10/dist-packages (from catboost) (0.20.3)\n",
            "Requirement already satisfied: matplotlib in /usr/local/lib/python3.10/dist-packages (from catboost) (3.7.1)\n",
            "Requirement already satisfied: numpy>=1.16.0 in /usr/local/lib/python3.10/dist-packages (from catboost) (1.25.2)\n",
            "Requirement already satisfied: pandas>=0.24 in /usr/local/lib/python3.10/dist-packages (from catboost) (2.0.3)\n",
            "Requirement already satisfied: scipy in /usr/local/lib/python3.10/dist-packages (from catboost) (1.11.4)\n",
            "Requirement already satisfied: plotly in /usr/local/lib/python3.10/dist-packages (from catboost) (5.15.0)\n",
            "Requirement already satisfied: six in /usr/local/lib/python3.10/dist-packages (from catboost) (1.16.0)\n",
            "Requirement already satisfied: python-dateutil>=2.8.2 in /usr/local/lib/python3.10/dist-packages (from pandas>=0.24->catboost) (2.8.2)\n",
            "Requirement already satisfied: pytz>=2020.1 in /usr/local/lib/python3.10/dist-packages (from pandas>=0.24->catboost) (2023.4)\n",
            "Requirement already satisfied: tzdata>=2022.1 in /usr/local/lib/python3.10/dist-packages (from pandas>=0.24->catboost) (2024.1)\n",
            "Requirement already satisfied: contourpy>=1.0.1 in /usr/local/lib/python3.10/dist-packages (from matplotlib->catboost) (1.2.1)\n",
            "Requirement already satisfied: cycler>=0.10 in /usr/local/lib/python3.10/dist-packages (from matplotlib->catboost) (0.12.1)\n",
            "Requirement already satisfied: fonttools>=4.22.0 in /usr/local/lib/python3.10/dist-packages (from matplotlib->catboost) (4.51.0)\n",
            "Requirement already satisfied: kiwisolver>=1.0.1 in /usr/local/lib/python3.10/dist-packages (from matplotlib->catboost) (1.4.5)\n",
            "Requirement already satisfied: packaging>=20.0 in /usr/local/lib/python3.10/dist-packages (from matplotlib->catboost) (24.0)\n",
            "Requirement already satisfied: pillow>=6.2.0 in /usr/local/lib/python3.10/dist-packages (from matplotlib->catboost) (9.4.0)\n",
            "Requirement already satisfied: pyparsing>=2.3.1 in /usr/local/lib/python3.10/dist-packages (from matplotlib->catboost) (3.1.2)\n",
            "Requirement already satisfied: tenacity>=6.2.0 in /usr/local/lib/python3.10/dist-packages (from plotly->catboost) (8.3.0)\n",
            "Installing collected packages: catboost\n",
            "Successfully installed catboost-1.2.5\n"
          ]
        }
      ],
      "source": [
        "!pip install catboost"
      ]
    },
    {
      "cell_type": "code",
      "source": [
        "from google.colab import drive\n",
        "import pandas as pd\n",
        "from catboost import CatBoostClassifier\n",
        "from google.colab import files\n",
        "import matplotlib.pyplot as plt\n",
        "import seaborn as sns\n",
        "from sklearn.model_selection import train_test_split\n",
        "\n",
        "# Monter Google Drive\n",
        "drive.mount('/content/drive')\n",
        "\n",
        "# Chemins vers les fichiers\n",
        "train_path = '/content/drive/My Drive/machinelearning/train.csv'\n",
        "test_path = '/content/drive/My Drive/machinelearning/test.csv'\n",
        "\n",
        "# Chargement des données par morceaux et échantillonnage\n",
        "chunksize = 10 ** 7\n",
        "num_of_chunk = 0\n",
        "train = pd.DataFrame()\n",
        "\n",
        "for chunk in pd.read_csv(train_path, chunksize=chunksize):\n",
        "    num_of_chunk += 1\n",
        "    train = pd.concat([train, chunk.sample(frac=0.01)], axis=0, ignore_index=True)\n",
        "    print(f'Chunk {num_of_chunk} traité.')\n",
        "\n",
        "\n"
      ],
      "metadata": {
        "colab": {
          "base_uri": "https://localhost:8080/"
        },
        "id": "5LcLBBKPdq7q",
        "outputId": "012319c5-3e4f-4291-8f71-cd5c8077af4f"
      },
      "execution_count": 1,
      "outputs": [
        {
          "output_type": "stream",
          "name": "stdout",
          "text": [
            "Drive already mounted at /content/drive; to attempt to forcibly remount, call drive.mount(\"/content/drive\", force_remount=True).\n",
            "Chunk 1 traité.\n",
            "Chunk 2 traité.\n",
            "Chunk 3 traité.\n",
            "Chunk 4 traité.\n",
            "Chunk 5 traité.\n"
          ]
        }
      ]
    },
    {
      "cell_type": "code",
      "source": [
        "# Chargement du fichier de test\n",
        "test = pd.read_csv(test_path)\n",
        "\n",
        "# Vérifiez les valeurs uniques dans la colonne 'hour'\n",
        "print(train['hour'].head())\n",
        "\n",
        "# Suppression des valeurs incorrectes\n",
        "train = train[train['hour'].apply(lambda x: len(str(x)) == 8)]\n",
        "test = test[test['hour'].apply(lambda x: len(str(x)) == 8)]\n",
        "\n",
        "# Vérifiez à nouveau après le nettoyage\n",
        "print(train['hour'].unique())\n",
        "\n",
        "# Transformation de la colonne 'hour' en datetime\n",
        "train['hour'] = pd.to_datetime(train['hour'], format='%y%m%d%H')\n",
        "test['hour'] = pd.to_datetime(test['hour'], format='%y%m%d%H')\n",
        "\n",
        "# Extraire des features temporelles\n",
        "train['day'] = train['hour'].dt.day\n",
        "train['hour_of_day'] = train['hour'].dt.hour\n",
        "train['weekday'] = train['hour'].dt.dayofweek\n",
        "\n",
        "test['day'] = test['hour'].dt.day\n",
        "test['hour_of_day'] = test['hour'].dt.hour\n",
        "test['weekday'] = test['hour'].dt.dayofweek\n",
        "\n",
        "print(train.head())\n",
        "print(test.head())\n",
        "\n",
        "# Analyse exploratoire des données\n",
        "if not train.empty:\n",
        "    train.groupby('weekday')['click'].sum().plot.bar(figsize=(6,6))\n",
        "    plt.ylabel('Nombre de clics')\n",
        "    plt.title('Nombre de clics par jour de la semaine')\n",
        "    plt.show()\n",
        "\n",
        "    sns.countplot(x='hour_of_day', hue='click', data=train)\n",
        "    plt.title('Répartition des clics par heure de la journée')\n",
        "    plt.show()\n",
        "else:\n",
        "    print(\"Les données d'entraînement sont vides après nettoyage.\")\n",
        "\n",
        "# Transformation des variables catégorielles\n",
        "obj_cols = train.select_dtypes(include=['object']).columns.tolist()\n",
        "for col in obj_cols:\n",
        "    train[col] = train[col].apply(lambda x: hash(x))\n",
        "    test[col] = test[col].apply(lambda x: hash(x))\n",
        "\n",
        "# Sélection des features et de la target\n",
        "X = train.drop(['id', 'click', 'hour'], axis=1)\n",
        "y = train['click']\n",
        "X_test = test.drop(['id', 'hour'], axis=1)\n",
        "\n",
        "# Séparation des données en ensembles d'entraînement et de validation\n",
        "X_train, X_val, y_train, y_val = train_test_split(X, y, test_size=0.2, random_state=0)\n",
        "\n",
        "# Modèle CatBoost avec GPU\n",
        "model = CatBoostClassifier(\n",
        "    iterations=1000,\n",
        "    learning_rate=0.1,\n",
        "    task_type='GPU',\n",
        "    loss_function='Logloss',\n",
        "    depth=10,\n",
        "    verbose=200\n",
        ")\n",
        "\n",
        "# Entraînement du modèle\n",
        "cat_features = X.select_dtypes(include=['object']).columns.tolist()\n",
        "model.fit(X_train, y_train, eval_set=(X_val, y_val), cat_features=cat_features, verbose=200)\n",
        "\n",
        "# Importance des features\n",
        "feature_importances = model.get_feature_importance(prettified=True)\n",
        "print(feature_importances)\n",
        "\n",
        "# Prédictions sur l'ensemble de test\n",
        "predictions = model.predict_proba(X_test)[:, 1]\n",
        "\n",
        "# Création du fichier de soumission\n",
        "submission = pd.DataFrame({'id': test['id'], 'click': predictions})\n",
        "submission.to_csv('submission.csv', index=False)\n",
        "files.download('submission.csv')"
      ],
      "metadata": {
        "colab": {
          "base_uri": "https://localhost:8080/",
          "height": 1000
        },
        "id": "O4xXP6ScgSL8",
        "outputId": "2d416637-fc14-4b30-ceb2-705b4749af2c"
      },
      "execution_count": 2,
      "outputs": [
        {
          "output_type": "stream",
          "name": "stdout",
          "text": [
            "0    14102202\n",
            "1    14102209\n",
            "2    14102112\n",
            "3    14102209\n",
            "4    14102209\n",
            "Name: hour, dtype: int64\n",
            "[14102202 14102209 14102112 14102115 14102102 14102121 14102103 14102100\n",
            " 14102219 14102106 14102104 14102203 14102205 14102107 14102201 14102210\n",
            " 14102303 14102215 14102213 14102118 14102206 14102111 14102207 14102105\n",
            " 14102211 14102212 14102221 14102109 14102301 14102222 14102204 14102216\n",
            " 14102123 14102108 14102208 14102110 14102302 14102120 14102116 14102218\n",
            " 14102117 14102113 14102200 14102223 14102214 14102220 14102304 14102217\n",
            " 14102114 14102119 14102300 14102122 14102101 14102518 14102308 14102321\n",
            " 14102511 14102313 14102406 14102307 14102512 14102408 14102315 14102312\n",
            " 14102515 14102319 14102521 14102510 14102306 14102520 14102517 14102514\n",
            " 14102407 14102323 14102402 14102410 14102414 14102519 14102403 14102412\n",
            " 14102516 14102314 14102309 14102416 14102318 14102305 14102413 14102320\n",
            " 14102501 14102417 14102400 14102504 14102311 14102505 14102509 14102310\n",
            " 14102405 14102418 14102503 14102513 14102316 14102523 14102415 14102322\n",
            " 14102404 14102409 14102500 14102401 14102317 14102411 14102522 14102508\n",
            " 14102502 14102507 14102506 14102420 14102419 14102421 14102422 14102423\n",
            " 14102722 14102812 14102707 14102613 14102813 14102712 14102713 14102714\n",
            " 14102616 14102607 14102711 14102720 14102706 14102806 14102614 14102604\n",
            " 14102810 14102808 14102800 14102809 14102718 14102611 14102612 14102709\n",
            " 14102723 14102619 14102721 14102608 14102811 14102715 14102606 14102615\n",
            " 14102618 14102610 14102708 14102703 14102622 14102717 14102621 14102705\n",
            " 14102623 14102716 14102701 14102702 14102801 14102803 14102609 14102807\n",
            " 14102802 14102617 14102805 14102719 14102804 14102603 14102704 14102605\n",
            " 14102602 14102710 14102601 14102700 14102600 14102620 14103007 14103003\n",
            " 14102905 14102903 14103015 14102906 14103010 14102907 14102817 14103018\n",
            " 14102914 14103012 14102816 14102911 14102922 14102908 14103006 14102818\n",
            " 14103004 14102815 14102909 14102819 14102904 14102822 14102814 14102920\n",
            " 14102912 14102913 14102823 14102919 14103002 14102921 14102902 14102917\n",
            " 14102901 14103005 14102923 14103016 14103000 14103008 14103009 14103013\n",
            " 14102915 14103017 14103019 14103014 14102916 14102910 14102820 14103011\n",
            " 14102900 14103001 14102918 14102821 14103022 14103023 14103021 14103020]\n",
            "             id  click                hour    C1  banner_pos   site_id  \\\n",
            "0  8.980822e+18      0 2014-10-22 02:00:00  1005           0  85f751fd   \n",
            "1  1.465409e+19      0 2014-10-22 09:00:00  1005           1  4407d527   \n",
            "2  7.461003e+18      0 2014-10-21 12:00:00  1005           1  5114c672   \n",
            "3  1.037906e+19      0 2014-10-22 09:00:00  1005           0  85f751fd   \n",
            "4  9.534206e+18      0 2014-10-22 09:00:00  1005           0  517b8671   \n",
            "\n",
            "  site_domain site_category    app_id app_domain  ...  C15 C16   C17 C18  C19  \\\n",
            "0    c4e18dd6      50e219e0  1c9ce06b   2347f47a  ...  320  50  2333   0   39   \n",
            "1    c1e9c6cf      f028772b  ecad2386   7801e8d9  ...  320  50  2507   0   35   \n",
            "2    3f2f3819      3e814130  ecad2386   7801e8d9  ...  320  50  2227   0  687   \n",
            "3    c4e18dd6      50e219e0  54c5d545   2347f47a  ...  320  50  1722   0   35   \n",
            "4    ac5abf20      f028772b  ecad2386   7801e8d9  ...  320  50  2506   0   35   \n",
            "\n",
            "      C20  C21  day  hour_of_day  weekday  \n",
            "0  100001  157   22            2        2  \n",
            "1      -1  157   22            9        2  \n",
            "2      -1   48   21           12        1  \n",
            "3      -1   79   22            9        2  \n",
            "4  100075  157   22            9        2  \n",
            "\n",
            "[5 rows x 27 columns]\n",
            "             id       hour    C1  banner_pos   site_id site_domain  \\\n",
            "0  1.000017e+19 2014-10-31  1005           0  235ba823    f6ebf28e   \n",
            "1  1.000018e+19 2014-10-31  1005           0  1fbe01fe    f3845767   \n",
            "2  1.000055e+19 2014-10-31  1005           0  1fbe01fe    f3845767   \n",
            "3  1.000109e+19 2014-10-31  1005           0  85f751fd    c4e18dd6   \n",
            "4  1.000138e+19 2014-10-31  1005           0  85f751fd    c4e18dd6   \n",
            "\n",
            "  site_category    app_id app_domain app_category  ...  C15 C16   C17  C18  \\\n",
            "0      f028772b  ecad2386   7801e8d9     07d7df22  ...  320  50   761    3   \n",
            "1      28905ebd  ecad2386   7801e8d9     07d7df22  ...  320  50  2616    0   \n",
            "2      28905ebd  ecad2386   7801e8d9     07d7df22  ...  320  50  2616    0   \n",
            "3      50e219e0  51cedd4e   aefc06bd     0f2161f8  ...  320  50  1092    3   \n",
            "4      50e219e0  9c13b419   2347f47a     f95efa07  ...  320  50  2667    0   \n",
            "\n",
            "   C19     C20  C21  day  hour_of_day  weekday  \n",
            "0  175  100075   23   31            0        4  \n",
            "1   35  100083   51   31            0        4  \n",
            "2   35  100083   51   31            0        4  \n",
            "3  809  100156   61   31            0        4  \n",
            "4   47      -1  221   31            0        4  \n",
            "\n",
            "[5 rows x 26 columns]\n"
          ]
        },
        {
          "output_type": "display_data",
          "data": {
            "text/plain": [
              "<Figure size 600x600 with 1 Axes>"
            ],
            "image/png": "[encoded data removed]"
          },
          "metadata": {}
        },
        {
          "output_type": "display_data",
          "data": {
            "text/plain": [
              "<Figure size 640x480 with 1 Axes>"
            ],
            "image/png": "[encoded data removed]"
          },
          "metadata": {}
        },
        {
          "output_type": "stream",
          "name": "stdout",
          "text": [
            "0:\tlearn: 0.6334205\ttest: 0.6333462\tbest: 0.6333462 (0)\ttotal: 250ms\tremaining: 4m 9s\n",
            "200:\tlearn: 0.3829412\ttest: 0.4044933\tbest: 0.4044346 (190)\ttotal: 4.46s\tremaining: 17.7s\n",
            "400:\tlearn: 0.3620981\ttest: 0.4049816\tbest: 0.4043169 (245)\ttotal: 11.2s\tremaining: 16.7s\n",
            "600:\tlearn: 0.3440730\ttest: 0.4067373\tbest: 0.4043169 (245)\ttotal: 15.4s\tremaining: 10.2s\n",
            "800:\tlearn: 0.3283244\ttest: 0.4089694\tbest: 0.4043169 (245)\ttotal: 20.1s\tremaining: 5.01s\n",
            "999:\tlearn: 0.3137051\ttest: 0.4116873\tbest: 0.4043169 (245)\ttotal: 26.5s\tremaining: 0us\n",
            "bestTest = 0.4043169237\n",
            "bestIteration = 245\n",
            "Shrink model to first 246 iterations.\n",
            "          Feature Id  Importances\n",
            "0            site_id     8.030932\n",
            "1        site_domain     7.446844\n",
            "2       device_model     6.571925\n",
            "3                C21     6.490992\n",
            "4        hour_of_day     5.769336\n",
            "5                C18     5.765485\n",
            "6                C20     5.631288\n",
            "7          device_ip     5.334374\n",
            "8                C14     5.013756\n",
            "9                C19     4.818259\n",
            "10               day     4.701398\n",
            "11            app_id     4.055141\n",
            "12      app_category     3.861870\n",
            "13           weekday     3.760484\n",
            "14               C17     3.491648\n",
            "15        banner_pos     3.468789\n",
            "16     site_category     3.182167\n",
            "17        app_domain     2.851828\n",
            "18         device_id     2.778937\n",
            "19               C16     2.476932\n",
            "20  device_conn_type     1.907544\n",
            "21                C1     1.405615\n",
            "22       device_type     0.623999\n",
            "23               C15     0.560457\n"
          ]
        },
        {
          "output_type": "display_data",
          "data": {
            "text/plain": [
              "<IPython.core.display.Javascript object>"
            ],
            "application/javascript": [
              "\n",
              "    async function download(id, filename, size) {\n",
              "      if (!google.colab.kernel.accessAllowed) {\n",
              "        return;\n",
              "      }\n",
              "      const div = document.createElement('div');\n",
              "      const label = document.createElement('label');\n",
              "      label.textContent = `Downloading \"${filename}\": `;\n",
              "      div.appendChild(label);\n",
              "      const progress = document.createElement('progress');\n",
              "      progress.max = size;\n",
              "      div.appendChild(progress);\n",
              "      document.body.appendChild(div);\n",
              "\n",
              "      const buffers = [];\n",
              "      let downloaded = 0;\n",
              "\n",
              "      const channel = await google.colab.kernel.comms.open(id);\n",
              "      // Send a message to notify the kernel that we're ready.\n",
              "      channel.send({})\n",
              "\n",
              "      for await (const message of channel.messages) {\n",
              "        // Send a message to notify the kernel that we're ready.\n",
              "        channel.send({})\n",
              "        if (message.buffers) {\n",
              "          for (const buffer of message.buffers) {\n",
              "            buffers.push(buffer);\n",
              "            downloaded += buffer.byteLength;\n",
              "            progress.value = downloaded;\n",
              "          }\n",
              "        }\n",
              "      }\n",
              "      const blob = new Blob(buffers, {type: 'application/binary'});\n",
              "      const a = document.createElement('a');\n",
              "      a.href = window.URL.createObjectURL(blob);\n",
              "      a.download = filename;\n",
              "      div.appendChild(a);\n",
              "      a.click();\n",
              "      div.remove();\n",
              "    }\n",
              "  "
            ]
          },
          "metadata": {}
        },
        {
          "output_type": "display_data",
          "data": {
            "text/plain": [
              "<IPython.core.display.Javascript object>"
            ],
            "application/javascript": [
              "download(\"download_bf0ff1a6-9dea-443b-b8b4-071e72ca9215\", \"submission.csv\", 193246668)"
            ]
          },
          "metadata": {}
        }
      ]
    },
    {
      "cell_type": "code",
      "source": [
        "# Créer le fichier de soumission\n",
        "submission = pd.DataFrame({'id': test['id'], 'click': predictions})\n",
        "submission['id'] = submission['id'].apply(lambda x: f'{x:.0f}')\n",
        "print(submission.head(10))\n",
        "submission.to_csv('submission.csv', index=False)\n",
        "\n",
        "# Télécharger le fichier de soumission\n",
        "files.download('submission.csv')"
      ],
      "metadata": {
        "colab": {
          "base_uri": "https://localhost:8080/",
          "height": 208
        },
        "id": "WFTy6qRZlXTn",
        "outputId": "d4630a93-a265-413b-961b-81af53d65b00"
      },
      "execution_count": 3,
      "outputs": [
        {
          "output_type": "stream",
          "name": "stdout",
          "text": [
            "                     id     click\n",
            "0  10000174058809264128  0.062965\n",
            "1  10000182526920855552  0.191601\n",
            "2  10000554139829213184  0.250816\n",
            "3  10001094637809799168  0.034652\n",
            "4  10001377041558671360  0.278267\n",
            "5  10001521204153354240  0.177019\n",
            "6  10001911056707022848  0.155341\n",
            "7  10001982898844213248  0.026442\n",
            "8  10002000217531287552  0.088509\n",
            "9  10002107385290586112  0.145857\n"
          ]
        },
        {
          "output_type": "display_data",
          "data": {
            "text/plain": [
              "<IPython.core.display.Javascript object>"
            ],
            "application/javascript": [
              "\n",
              "    async function download(id, filename, size) {\n",
              "      if (!google.colab.kernel.accessAllowed) {\n",
              "        return;\n",
              "      }\n",
              "      const div = document.createElement('div');\n",
              "      const label = document.createElement('label');\n",
              "      label.textContent = `Downloading \"${filename}\": `;\n",
              "      div.appendChild(label);\n",
              "      const progress = document.createElement('progress');\n",
              "      progress.max = size;\n",
              "      div.appendChild(progress);\n",
              "      document.body.appendChild(div);\n",
              "\n",
              "      const buffers = [];\n",
              "      let downloaded = 0;\n",
              "\n",
              "      const channel = await google.colab.kernel.comms.open(id);\n",
              "      // Send a message to notify the kernel that we're ready.\n",
              "      channel.send({})\n",
              "\n",
              "      for await (const message of channel.messages) {\n",
              "        // Send a message to notify the kernel that we're ready.\n",
              "        channel.send({})\n",
              "        if (message.buffers) {\n",
              "          for (const buffer of message.buffers) {\n",
              "            buffers.push(buffer);\n",
              "            downloaded += buffer.byteLength;\n",
              "            progress.value = downloaded;\n",
              "          }\n",
              "        }\n",
              "      }\n",
              "      const blob = new Blob(buffers, {type: 'application/binary'});\n",
              "      const a = document.createElement('a');\n",
              "      a.href = window.URL.createObjectURL(blob);\n",
              "      a.download = filename;\n",
              "      div.appendChild(a);\n",
              "      a.click();\n",
              "      div.remove();\n",
              "    }\n",
              "  "
            ]
          },
          "metadata": {}
        },
        {
          "output_type": "display_data",
          "data": {
            "text/plain": [
              "<IPython.core.display.Javascript object>"
            ],
            "application/javascript": [
              "download(\"download_a87aea8b-bf2e-41c6-bd27-4c8b2dc0c0a7\", \"submission.csv\", 183949861)"
            ]
          },
          "metadata": {}
        }
      ]
    }
  ]
}