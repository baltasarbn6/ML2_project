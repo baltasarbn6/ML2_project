{
  "cells": [
    {
      "cell_type": "code",
      "execution_count": 2,
      "metadata": {
        "id": "kgFD8sBGmULx"
      },
      "outputs": [],
      "source": [
        "from google.colab import drive\n",
        "import pandas as pd\n",
        "from catboost import CatBoostClassifier\n",
        "from google.colab import files"
      ]
    },
    {
      "cell_type": "code",
      "execution_count": 3,
      "metadata": {
        "colab": {
          "base_uri": "https://localhost:8080/"
        },
        "id": "qaWpTnrTmoA-",
        "outputId": "d5d74fd9-b483-4bc1-8a4f-bff6d3661d83"
      },
      "outputs": [
        {
          "name": "stdout",
          "output_type": "stream",
          "text": [
            "Drive already mounted at /content/drive; to attempt to forcibly remount, call drive.mount(\"/content/drive\", force_remount=True).\n"
          ]
        }
      ],
      "source": [
        "drive.mount('/content/drive')\n",
        "\n",
        "# Chemins vers les fichiers\n",
        "train_path = '/content/drive/My Drive/machinelearning/train.csv'\n",
        "test_path = '/content/drive/My Drive/machinelearning/test.csv'"
      ]
    },
    {
      "cell_type": "code",
      "execution_count": 4,
      "metadata": {
        "colab": {
          "base_uri": "https://localhost:8080/",
          "height": 885
        },
        "id": "dg4WQZ5-m71O",
        "outputId": "9f269a80-717a-495f-b6ab-30a9739723d0"
      },
      "outputs": [
        {
          "name": "stdout",
          "output_type": "stream",
          "text": [
            "                   id  click      hour    C1  banner_pos   site_id  \\\n",
            "1903699  1.371458e+19      0  14102109  1005           0  1fbe01fe   \n",
            "1139078  6.578865e+18      0  14102105  1005           0  85f751fd   \n",
            "1466517  1.247935e+19      1  14102107  1005           0  1fbe01fe   \n",
            "1723903  1.640883e+19      1  14102108  1005           1  e151e245   \n",
            "4876944  1.778986e+19      0  14102205  1002           0  9e8e8d09   \n",
            "\n",
            "        site_domain site_category    app_id app_domain  ... device_type  \\\n",
            "1903699    f3845767      28905ebd  ecad2386   7801e8d9  ...           1   \n",
            "1139078    c4e18dd6      50e219e0  5fc17a6a   2347f47a  ...           1   \n",
            "1466517    f3845767      28905ebd  ecad2386   7801e8d9  ...           1   \n",
            "1723903    7e091613      f028772b  ecad2386   7801e8d9  ...           1   \n",
            "4876944    16a36ef3      50e219e0  ecad2386   7801e8d9  ...           0   \n",
            "\n",
            "        device_conn_type    C14  C15  C16   C17  C18  C19     C20  C21  \n",
            "1903699                0  21725  320   50  2502    0   35  100084  221  \n",
            "1139078                0  19251  320   50  2201    3   35      -1   43  \n",
            "1466517                0  15706  320   50  1722    0   35      -1   79  \n",
            "1723903                0  19251  320   50  2201    3   35      -1   43  \n",
            "4876944                0  21790  320   50  2513    3   35      -1   68  \n",
            "\n",
            "[5 rows x 24 columns]\n",
            "             id      hour    C1  banner_pos   site_id site_domain  \\\n",
            "0  1.000017e+19  14103100  1005           0  235ba823    f6ebf28e   \n",
            "1  1.000018e+19  14103100  1005           0  1fbe01fe    f3845767   \n",
            "2  1.000055e+19  14103100  1005           0  1fbe01fe    f3845767   \n",
            "3  1.000109e+19  14103100  1005           0  85f751fd    c4e18dd6   \n",
            "4  1.000138e+19  14103100  1005           0  85f751fd    c4e18dd6   \n",
            "\n",
            "  site_category    app_id app_domain app_category  ... device_type  \\\n",
            "0      f028772b  ecad2386   7801e8d9     07d7df22  ...           1   \n",
            "1      28905ebd  ecad2386   7801e8d9     07d7df22  ...           1   \n",
            "2      28905ebd  ecad2386   7801e8d9     07d7df22  ...           1   \n",
            "3      50e219e0  51cedd4e   aefc06bd     0f2161f8  ...           1   \n",
            "4      50e219e0  9c13b419   2347f47a     f95efa07  ...           1   \n",
            "\n",
            "  device_conn_type    C14  C15  C16   C17  C18  C19     C20  C21  \n",
            "0                0   8330  320   50   761    3  175  100075   23  \n",
            "1                0  22676  320   50  2616    0   35  100083   51  \n",
            "2                0  22676  320   50  2616    0   35  100083   51  \n",
            "3                0  18648  320   50  1092    3  809  100156   61  \n",
            "4                0  23160  320   50  2667    0   47      -1  221  \n",
            "\n",
            "[5 rows x 23 columns]\n",
            "0:\tlearn: 0.6286190\ttotal: 1.73s\tremaining: 28m 51s\n",
            "200:\tlearn: 0.3857285\ttotal: 8m 17s\tremaining: 32m 57s\n",
            "400:\tlearn: 0.3752909\ttotal: 17m 4s\tremaining: 25m 31s\n",
            "600:\tlearn: 0.3663660\ttotal: 25m 57s\tremaining: 17m 13s\n",
            "800:\tlearn: 0.3584328\ttotal: 34m 50s\tremaining: 8m 39s\n",
            "999:\tlearn: 0.3505891\ttotal: 43m 43s\tremaining: 0us\n"
          ]
        },
        {
          "data": {
            "application/javascript": "\n    async function download(id, filename, size) {\n      if (!google.colab.kernel.accessAllowed) {\n        return;\n      }\n      const div = document.createElement('div');\n      const label = document.createElement('label');\n      label.textContent = `Downloading \"${filename}\": `;\n      div.appendChild(label);\n      const progress = document.createElement('progress');\n      progress.max = size;\n      div.appendChild(progress);\n      document.body.appendChild(div);\n\n      const buffers = [];\n      let downloaded = 0;\n\n      const channel = await google.colab.kernel.comms.open(id);\n      // Send a message to notify the kernel that we're ready.\n      channel.send({})\n\n      for await (const message of channel.messages) {\n        // Send a message to notify the kernel that we're ready.\n        channel.send({})\n        if (message.buffers) {\n          for (const buffer of message.buffers) {\n            buffers.push(buffer);\n            downloaded += buffer.byteLength;\n            progress.value = downloaded;\n          }\n        }\n      }\n      const blob = new Blob(buffers, {type: 'application/binary'});\n      const a = document.createElement('a');\n      a.href = window.URL.createObjectURL(blob);\n      a.download = filename;\n      div.appendChild(a);\n      a.click();\n      div.remove();\n    }\n  ",
            "text/plain": [
              "<IPython.core.display.Javascript object>"
            ]
          },
          "metadata": {},
          "output_type": "display_data"
        },
        {
          "data": {
            "application/javascript": "download(\"download_133da803-fca0-4e94-9849-b120aba4192f\", \"submission.csv\", 193512946)",
            "text/plain": [
              "<IPython.core.display.Javascript object>"
            ]
          },
          "metadata": {},
          "output_type": "display_data"
        }
      ],
      "source": [
        "# Charger les données par échantillonnage\n",
        "sample_fraction = 0.1\n",
        "train = pd.read_csv(train_path, nrows=int(5000000))\n",
        "test = pd.read_csv(test_path)\n",
        "\n",
        "# Échantillonnage aléatoire des données\n",
        "train_sample = train.sample(frac=sample_fraction, random_state=1)\n",
        "\n",
        "print(train_sample.head())\n",
        "print(test.head())\n",
        "\n",
        "# Transformation de la colonne 'hour' en datetime\n",
        "train_sample['hour'] = pd.to_datetime(train_sample['hour'], format='%y%m%d%H')\n",
        "test['hour'] = pd.to_datetime(test['hour'], format='%y%m%d%H')\n",
        "\n",
        "# Extraire des features temporelles\n",
        "train_sample['day'] = train_sample['hour'].dt.day\n",
        "train_sample['hour'] = train_sample['hour'].dt.hour\n",
        "\n",
        "test['day'] = test['hour'].dt.day\n",
        "test['hour'] = test['hour'].dt.hour\n",
        "\n",
        "# Sélection des features et de la target\n",
        "X = train_sample.drop(['id', 'click'], axis=1)\n",
        "y = train_sample['click']\n",
        "\n",
        "X_test = test.drop(['id'], axis=1)\n",
        "\n",
        "cat_features = X.select_dtypes(include=['object', 'category']).columns.tolist()\n",
        "\n",
        "model = CatBoostClassifier(iterations=1000, depth=10, learning_rate=0.1, loss_function='Logloss', verbose=200)\n",
        "\n",
        "model.fit(X, y, cat_features=cat_features)\n",
        "\n",
        "predictions = model.predict_proba(X_test)[:, 1]\n",
        "\n",
        "submission = pd.DataFrame({'id': test['id'], 'click': predictions})\n",
        "submission.to_csv('submission.csv', index=False)\n",
        "\n",
        "files.download('submission.csv')"
      ]
    },
    {
      "cell_type": "code",
      "execution_count": 6,
      "metadata": {
        "colab": {
          "base_uri": "https://localhost:8080/"
        },
        "id": "wQIaqeA_2D8S",
        "outputId": "4f508c4d-594b-4ca3-ec1a-13dd6077bfef"
      },
      "outputs": [
        {
          "name": "stdout",
          "output_type": "stream",
          "text": [
            "                     id     click\n",
            "0  10000174058809264128  0.126911\n",
            "1  10000182526920855552  0.258380\n",
            "2  10000554139829213184  0.147155\n",
            "3  10001094637809799168  0.045183\n",
            "4  10001377041558671360  0.206341\n",
            "5  10001521204153354240  0.236325\n",
            "6  10001911056707022848  0.100234\n",
            "7  10001982898844213248  0.042194\n",
            "8  10002000217531287552  0.024202\n",
            "9  10002107385290586112  0.133548\n"
          ]
        }
      ],
      "source": [
        "# Créer le fichier de soumission\n",
        "submission = pd.DataFrame({'id': test['id'], 'click': predictions})\n",
        "submission['id'] = submission['id'].apply(lambda x: f'{x:.0f}')\n",
        "print(submission.head(10))\n",
        "submission.to_csv('submission.csv', index=False)"
      ]
    },
    {
      "cell_type": "code",
      "execution_count": 7,
      "metadata": {
        "colab": {
          "base_uri": "https://localhost:8080/",
          "height": 17
        },
        "id": "uBBrPb7N3mST",
        "outputId": "1e966a21-eca4-4aa0-9822-2d7e51d5c32f"
      },
      "outputs": [
        {
          "data": {
            "application/javascript": "\n    async function download(id, filename, size) {\n      if (!google.colab.kernel.accessAllowed) {\n        return;\n      }\n      const div = document.createElement('div');\n      const label = document.createElement('label');\n      label.textContent = `Downloading \"${filename}\": `;\n      div.appendChild(label);\n      const progress = document.createElement('progress');\n      progress.max = size;\n      div.appendChild(progress);\n      document.body.appendChild(div);\n\n      const buffers = [];\n      let downloaded = 0;\n\n      const channel = await google.colab.kernel.comms.open(id);\n      // Send a message to notify the kernel that we're ready.\n      channel.send({})\n\n      for await (const message of channel.messages) {\n        // Send a message to notify the kernel that we're ready.\n        channel.send({})\n        if (message.buffers) {\n          for (const buffer of message.buffers) {\n            buffers.push(buffer);\n            downloaded += buffer.byteLength;\n            progress.value = downloaded;\n          }\n        }\n      }\n      const blob = new Blob(buffers, {type: 'application/binary'});\n      const a = document.createElement('a');\n      a.href = window.URL.createObjectURL(blob);\n      a.download = filename;\n      div.appendChild(a);\n      a.click();\n      div.remove();\n    }\n  ",
            "text/plain": [
              "<IPython.core.display.Javascript object>"
            ]
          },
          "metadata": {},
          "output_type": "display_data"
        },
        {
          "data": {
            "application/javascript": "download(\"download_8d53e380-8246-4fac-a606-0efebb992288\", \"submission.csv\", 184216139)",
            "text/plain": [
              "<IPython.core.display.Javascript object>"
            ]
          },
          "metadata": {},
          "output_type": "display_data"
        }
      ],
      "source": [
        "# Télécharger le fichier de soumission\n",
        "files.download('submission.csv')"
      ]
    }
  ],
  "metadata": {
    "accelerator": "GPU",
    "colab": {
      "gpuType": "T4",
      "provenance": []
    },
    "kernelspec": {
      "display_name": "Python 3",
      "name": "python3"
    },
    "language_info": {
      "name": "python"
    }
  },
  "nbformat": 4,
  "nbformat_minor": 0
}
